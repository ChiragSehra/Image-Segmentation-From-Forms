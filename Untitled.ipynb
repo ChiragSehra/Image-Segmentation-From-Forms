{
 "cells": [
  {
   "cell_type": "code",
   "execution_count": 73,
   "metadata": {},
   "outputs": [],
   "source": [
    "import numpy as np\n",
    "import pandas as pd\n",
    "import matplotlib.pyplot as plt\n",
    "%matplotlib inline\n",
    "import cv2\n",
    "import xml.etree.ElementTree as ET\n",
    "import pytesseract as pytess\n",
    "import sys\n",
    "import skimage.io as skio\n",
    "from skimage.transform import rescale, resize\n",
    "from preprocessing import preprocess\n",
    "import os"
   ]
  },
  {
   "cell_type": "code",
   "execution_count": 57,
   "metadata": {},
   "outputs": [],
   "source": [
    "# from PIL import Image\n",
    "# image_file = \"../forms/form01.jpg\"\n",
    "# im = Image.open(image_file)\n",
    "# print im.size "
   ]
  },
  {
   "cell_type": "code",
   "execution_count": 58,
   "metadata": {},
   "outputs": [],
   "source": [
    "template_file = '../template/template_1.xml'"
   ]
  },
  {
   "cell_type": "code",
   "execution_count": 59,
   "metadata": {},
   "outputs": [],
   "source": [
    "dumps = list()\n",
    "annotations = template_file\n",
    "in_file = open(template_file)\n",
    "tree = ET.parse(in_file)\n",
    "root = tree.getroot()\n",
    "jpg = annotations.split('.')[0] + '.jpg'\n",
    "imsize = root.find('size')\n",
    "w = int(imsize.find('width').text)\n",
    "h = int(imsize.find('height').text)\n",
    "\n",
    "all = list()\n",
    "\n",
    "for obj in root.iter('object'):\n",
    "    current = list()\n",
    "    name = obj.find('name').text\n",
    "    xmlbox = obj.find('bndbox')\n",
    "    xn = int(float(xmlbox.find('xmin').text))\n",
    "    xx = int(float(xmlbox.find('xmax').text))\n",
    "    yn = int(float(xmlbox.find('ymin').text))\n",
    "    yx = int(float(xmlbox.find('ymax').text))\n",
    "    current += [jpg,w,h,name,xn,yn,xx,yx]\n",
    "    all += [current]\n",
    "    \n",
    "in_file.close()"
   ]
  },
  {
   "cell_type": "code",
   "execution_count": 71,
   "metadata": {},
   "outputs": [
    {
     "data": {
      "text/plain": [
       "'first_name_complete_box'"
      ]
     },
     "execution_count": 71,
     "metadata": {},
     "output_type": "execute_result"
    }
   ],
   "source": []
  },
  {
   "cell_type": "code",
   "execution_count": 60,
   "metadata": {},
   "outputs": [],
   "source": [
    "data = pd.DataFrame(all, columns=['path','width','height','label','xmin','ymin','xmax','ymax'])\n",
    "\n",
    "input_image = cv2.imread('../forms/form01.jpg')\n",
    "\n",
    "input_image = cv2.cvtColor(input_image, cv2.COLOR_BGR2GRAY)\n",
    "preprocess(input_image)\n",
    "img = cv2.imread('../temp/output.png')"
   ]
  },
  {
   "cell_type": "code",
   "execution_count": 79,
   "metadata": {},
   "outputs": [
    {
     "name": "stdout",
     "output_type": "stream",
     "text": [
      "Creation of the directory first_name_complete_box failed\n",
      "Creation of the directory first_name_complete_box failed\n"
     ]
    }
   ],
   "source": [
    "for i,row in data.iterrows():\n",
    "    x1 = row['xmin']\n",
    "    y1 = row['ymin']\n",
    "    x2 = row['xmax']\n",
    "    y2 = row['ymax']\n",
    "    image = img[y1:y2, x1:x2]\n",
    "    gray = cv2.cvtColor(image, cv2.COLOR_BGR2GRAY)\n",
    "    thresh, bnw = cv2.threshold(gray,0,255,cv2.THRESH_BINARY_INV + cv2.THRESH_OTSU)\n",
    "    path = name\n",
    "    try:  \n",
    "        os.mkdir(path)\n",
    "    except OSError:  \n",
    "        print (\"Creation of the directory %s failed\" % path)\n",
    "    else:  \n",
    "        print (\"Successfully created the directory %s \" % path)\n",
    "        \n",
    "    crop_image_path = '../forms/crop_image/'+ path +'/' + str(i) + '.png'\n",
    "    cv2.imwrite(crop_image_path,bnw)"
   ]
  },
  {
   "cell_type": "code",
   "execution_count": 80,
   "metadata": {},
   "outputs": [
    {
     "data": {
      "text/plain": [
       "'first_name_complete_box'"
      ]
     },
     "execution_count": 80,
     "metadata": {},
     "output_type": "execute_result"
    }
   ],
   "source": [
    "path"
   ]
  },
  {
   "cell_type": "code",
   "execution_count": null,
   "metadata": {},
   "outputs": [],
   "source": []
  },
  {
   "cell_type": "code",
   "execution_count": null,
   "metadata": {},
   "outputs": [],
   "source": []
  },
  {
   "cell_type": "code",
   "execution_count": null,
   "metadata": {},
   "outputs": [],
   "source": []
  },
  {
   "cell_type": "code",
   "execution_count": null,
   "metadata": {},
   "outputs": [],
   "source": []
  },
  {
   "cell_type": "code",
   "execution_count": null,
   "metadata": {},
   "outputs": [],
   "source": []
  },
  {
   "cell_type": "code",
   "execution_count": null,
   "metadata": {},
   "outputs": [],
   "source": []
  },
  {
   "cell_type": "code",
   "execution_count": null,
   "metadata": {},
   "outputs": [],
   "source": []
  }
 ],
 "metadata": {
  "kernelspec": {
   "display_name": "Python 2",
   "language": "python",
   "name": "python2"
  },
  "language_info": {
   "codemirror_mode": {
    "name": "ipython",
    "version": 2
   },
   "file_extension": ".py",
   "mimetype": "text/x-python",
   "name": "python",
   "nbconvert_exporter": "python",
   "pygments_lexer": "ipython2",
   "version": "2.7.16"
  }
 },
 "nbformat": 4,
 "nbformat_minor": 2
}
