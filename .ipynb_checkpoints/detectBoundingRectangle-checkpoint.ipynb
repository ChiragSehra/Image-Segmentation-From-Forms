{
 "cells": [
  {
   "cell_type": "markdown",
   "metadata": {},
   "source": [
    "# Segmentation of Rectangles from the complete form"
   ]
  },
  {
   "cell_type": "code",
   "execution_count": 107,
   "metadata": {
    "ExecuteTime": {
     "end_time": "2019-07-01T07:08:31.001254Z",
     "start_time": "2019-07-01T07:08:30.816535Z"
    }
   },
   "outputs": [
    {
     "data": {
      "text/plain": [
       "True"
      ]
     },
     "execution_count": 107,
     "metadata": {},
     "output_type": "execute_result"
    }
   ],
   "source": [
    "import numpy as np\n",
    "import matplotlib.pyplot as plt\n",
    "%matplotlib inline\n",
    "import cv2\n",
    "#read the image\n",
    "img = cv2.imread('form01.jpg', 0)\n",
    "\n",
    "# Thresholding Image to Global Threshold Value\n",
    "thresh, img_bin = cv2.threshold(img, 128, 255,cv2.THRESH_BINARY|cv2.THRESH_OTSU)\n",
    "\n",
    "# Binarizing the image\n",
    "img_bin = 255-img_bin \n",
    "cv2.imwrite(\"binary_image.jpg\",img_bin)"
   ]
  },
  {
   "cell_type": "code",
   "execution_count": 108,
   "metadata": {
    "ExecuteTime": {
     "end_time": "2019-07-01T07:08:31.551567Z",
     "start_time": "2019-07-01T07:08:31.534609Z"
    }
   },
   "outputs": [],
   "source": [
    "# Morphological Operations\n",
    "# defining the kernel length\n",
    "kernel_length = np.array(img).shape[1]//413\n",
    "\n",
    "# defining a kernel for finding vertical lines\n",
    "verticle_kernel = cv2.getStructuringElement(cv2.MORPH_RECT, (1, kernel_length))\n",
    "\n",
    "# defining a kerel for finding horizontal lines\n",
    "hori_kernel = cv2.getStructuringElement(cv2.MORPH_RECT, (kernel_length, 1))\n",
    "\n",
    "# creating a kernel of 3x3\n",
    "kernel = cv2.getStructuringElement(cv2.MORPH_RECT, (3, 3))"
   ]
  },
  {
   "cell_type": "code",
   "execution_count": 109,
   "metadata": {
    "ExecuteTime": {
     "end_time": "2019-07-01T07:08:31.996014Z",
     "start_time": "2019-07-01T07:08:31.845418Z"
    }
   },
   "outputs": [
    {
     "data": {
      "text/plain": [
       "True"
      ]
     },
     "execution_count": 109,
     "metadata": {},
     "output_type": "execute_result"
    }
   ],
   "source": [
    "# Eroding the boundaries from the binary image for vertical line segmentation\n",
    "img_temp1 = cv2.erode(img_bin, verticle_kernel, iterations=10)\n",
    "\n",
    "# Dilating the boundaries of eroded image for vertical line segmentation\n",
    "verticle_lines_img = cv2.dilate(img_temp1, verticle_kernel, iterations=10)\n",
    "\n",
    "# the image containing all the vertical lines detected by the kernel\n",
    "cv2.imwrite(\"binary_verticle_lines.jpg\",verticle_lines_img)"
   ]
  },
  {
   "cell_type": "code",
   "execution_count": 110,
   "metadata": {
    "ExecuteTime": {
     "end_time": "2019-07-01T07:08:32.235542Z",
     "start_time": "2019-07-01T07:08:32.081957Z"
    }
   },
   "outputs": [
    {
     "data": {
      "text/plain": [
       "True"
      ]
     },
     "execution_count": 110,
     "metadata": {},
     "output_type": "execute_result"
    }
   ],
   "source": [
    "# Eroding the boundaries from the binary image for horizontal line segmentation\n",
    "img_temp2 = cv2.erode(img_bin, hori_kernel, iterations=10)\n",
    "\n",
    "# Dilating the boundaries of eroded image for horizontal line segmentation\n",
    "horizontal_lines_img = cv2.dilate(img_temp2, hori_kernel, iterations=10)\n",
    "\n",
    "# the image containing all the horizontal lines detect by the kernel\n",
    "cv2.imwrite(\"binary_horizonal_image.jpg\",horizontal_lines_img)"
   ]
  },
  {
   "cell_type": "code",
   "execution_count": 111,
   "metadata": {
    "ExecuteTime": {
     "end_time": "2019-07-01T07:08:32.439361Z",
     "start_time": "2019-07-01T07:08:32.287769Z"
    }
   },
   "outputs": [
    {
     "data": {
      "text/plain": [
       "True"
      ]
     },
     "execution_count": 111,
     "metadata": {},
     "output_type": "execute_result"
    }
   ],
   "source": [
    "# detecting the boxes by adding horizontal lines image and vertical_lines image\n",
    "alpha = 0.5\n",
    "beta = 1.0 - alpha\n",
    "\n",
    "#adding weighted sum of both the arrays\n",
    "img_final_bin = cv2.addWeighted(verticle_lines_img, alpha, horizontal_lines_img, beta, 0.0)\n",
    "\n",
    "# eroding the inverted binary image with the 3x3 kernel\n",
    "img_final_bin = cv2.erode(~img_final_bin, kernel, iterations=3)\n",
    "\n",
    "#thresholding the final binary image\n",
    "(thresh, img_final_bin) = cv2.threshold(img_final_bin, 128,255, cv2.THRESH_BINARY | cv2.THRESH_OTSU)\n",
    "cv2.imwrite(\"final_binary_image.jpg\",img_final_bin)"
   ]
  },
  {
   "cell_type": "code",
   "execution_count": 112,
   "metadata": {
    "ExecuteTime": {
     "end_time": "2019-07-01T07:08:32.618880Z",
     "start_time": "2019-07-01T07:08:32.604918Z"
    }
   },
   "outputs": [],
   "source": [
    "# Defining a function for sorting out the contours that are detected from the image.\n",
    "# Contours can be sorted in 4 ways:\n",
    "#     left to right\n",
    "#     right to left\n",
    "#     top to bottom\n",
    "#     botton to top\n",
    "\n",
    "import numpy as np\n",
    "import argparse\n",
    "import imutils\n",
    "import cv2\n",
    " \n",
    "def sort_contours(cnts, method=\"left-to-right\"):\n",
    "\t# initialize the reverse flag and sort index\n",
    "\treverse = False\n",
    "\ti = 0\n",
    " \n",
    "\t# handle if we need to sort in reverse\n",
    "\tif method == \"right-to-left\" or method == \"bottom-to-top\":\n",
    "\t\treverse = True\n",
    " \n",
    "\t# handle if we are sorting against the y-coordinate rather than\n",
    "\t# the x-coordinate of the bounding box\n",
    "\tif method == \"top-to-bottom\" or method == \"bottom-to-top\":\n",
    "\t\ti = 1\n",
    " \n",
    "\t# construct the list of bounding boxes and sort them from top to\n",
    "\t# bottom\n",
    "\tboundingBoxes = [cv2.boundingRect(c) for c in cnts]\n",
    "\t(cnts, boundingBoxes) = zip(*sorted(zip(cnts, boundingBoxes),\n",
    "\t\tkey=lambda b:b[1][i], reverse=reverse))\n",
    " \n",
    "\t# return the list of sorted contours and bounding boxes\n",
    "\treturn (cnts, boundingBoxes)\n"
   ]
  },
  {
   "cell_type": "code",
   "execution_count": 113,
   "metadata": {
    "ExecuteTime": {
     "end_time": "2019-07-01T07:08:32.780566Z",
     "start_time": "2019-07-01T07:08:32.758615Z"
    }
   },
   "outputs": [],
   "source": [
    "# method help finding the contours from binary images with retriveal method = RETR_TREE and finding the coordinates with CHAIN_APPROX_SIMPLE\n",
    "contours, hierarchy = cv2.findContours(img_final_bin, cv2.RETR_TREE, cv2.CHAIN_APPROX_SIMPLE)\n",
    "contours, boundingBoxes = sort_contours(contours, method=\"top-to-bottom\")"
   ]
  },
  {
   "cell_type": "code",
   "execution_count": 114,
   "metadata": {
    "ExecuteTime": {
     "end_time": "2019-07-01T07:08:33.032034Z",
     "start_time": "2019-07-01T07:08:32.913341Z"
    }
   },
   "outputs": [],
   "source": [
    "# extracting the contours in form of rectangles\n",
    "idx = 0\n",
    "for c in contours:\n",
    "    # Returns the location and width,height for every contour\n",
    "    x, y, w, h = cv2.boundingRect(c)\n",
    "    if (w > 80 and h > 20) and w > 3*h:\n",
    "        idx += 1\n",
    "        new_img = img[y:y+h, x:x+w]\n",
    "        cv2.imwrite(str(idx) + '.jpg', new_img)\n"
   ]
  },
  {
   "cell_type": "markdown",
   "metadata": {},
   "source": [
    "# Once all rectangles are extracted, now we try to extract all the letters(square) inside the rectangles segmented"
   ]
  },
  {
   "cell_type": "code",
   "execution_count": 129,
   "metadata": {},
   "outputs": [
    {
     "data": {
      "text/plain": [
       "True"
      ]
     },
     "execution_count": 129,
     "metadata": {},
     "output_type": "execute_result"
    }
   ],
   "source": [
    "# reading a desired image\n",
    "image = cv2.imread('3.jpg',0)\n",
    "\n",
    "thresh, image_bin = cv2.threshold(image,128,255, cv2.THRESH_BINARY | cv2.THRESH_OTSU)\n",
    "image_bin = 255 - image_bin\n",
    "cv2.imwrite(\"manish.jpg\",image_bin)"
   ]
  },
  {
   "cell_type": "code",
   "execution_count": 130,
   "metadata": {},
   "outputs": [],
   "source": [
    "# Performing Morphological Operations with kernels\n",
    "\n",
    "kernel_length = 5\n",
    "vertical_kernel = cv2.getStructuringElement(cv2.MORPH_RECT,(1, kernel_length))\n",
    "horizontal_kernel = cv2.getStructuringElement(cv2.MORPH_RECT, (kernel_length,1))\n",
    "kernel = cv2.getStructuringElement(cv2.MORPH_RECT, (3,3))\n"
   ]
  },
  {
   "cell_type": "code",
   "execution_count": 131,
   "metadata": {},
   "outputs": [
    {
     "data": {
      "text/plain": [
       "True"
      ]
     },
     "execution_count": 131,
     "metadata": {},
     "output_type": "execute_result"
    }
   ],
   "source": [
    "image_temp1 = cv2.erode(image_bin, vertical_kernel, iterations = 10)\n",
    "vertical_lines_image = cv2.dilate(image_temp1, vertical_kernel, iterations = 10)\n",
    "cv2.imwrite(\"manish_vertical_lines.jpg\", vertical_lines_image)\n"
   ]
  },
  {
   "cell_type": "code",
   "execution_count": 132,
   "metadata": {},
   "outputs": [
    {
     "data": {
      "text/plain": [
       "True"
      ]
     },
     "execution_count": 132,
     "metadata": {},
     "output_type": "execute_result"
    }
   ],
   "source": [
    "image_temp2 = cv2.erode(image_bin, horizontal_kernel, iterations=10)\n",
    "horizontal_lines_image = cv2.dilate(image_temp2, horizontal_kernel, iterations = 10)\n",
    "cv2.imwrite(\"manish_horizontal_lines.jpg\", horizontal_lines_img)"
   ]
  },
  {
   "cell_type": "code",
   "execution_count": 133,
   "metadata": {},
   "outputs": [
    {
     "data": {
      "text/plain": [
       "True"
      ]
     },
     "execution_count": 133,
     "metadata": {},
     "output_type": "execute_result"
    }
   ],
   "source": [
    "# parameters for weighted sum\n",
    "alpha = 0.5\n",
    "beta = 1 - alpha\n",
    "\n",
    "# creating a weighted image from the horizontal_lines image and the vertical_lines_image\n",
    "\n",
    "image_final_bin = cv2.addWeighted(vertical_lines_image, alpha, horizontal_lines_image, beta, 0.0)\n",
    "image_final_bin = cv2.erode(~image_final_bin, kernel, iterations=3)\n",
    "\n",
    "thresh, image_final_bin = cv2.threshold(image_final_bin, 128, 255, cv2.THRESH_BINARY | cv2.THRESH_OTSU)\n",
    "cv2.imwrite(\"manish_image_final_bin.jpg\", image_final_bin)"
   ]
  },
  {
   "cell_type": "code",
   "execution_count": 134,
   "metadata": {},
   "outputs": [],
   "source": [
    "contours2, hierarchy2 = cv2.findContours(image_final_bin, cv2.RETR_TREE, cv2.CHAIN_APPROX_SIMPLE)\n",
    "contours2, boundingBoxes2 = sort_contours(contours2, method = \"left-to-right\")"
   ]
  },
  {
   "cell_type": "code",
   "execution_count": 135,
   "metadata": {},
   "outputs": [],
   "source": [
    "idx = 0\n",
    "for c in contours2:\n",
    "    x,y,w,h = cv2.boundingRect(c)\n",
    "    if (w > 30 and h > 30):\n",
    "        idx+=1\n",
    "        new_image = image[y:y+h, x:x+w]\n",
    "        cv2.imwrite(\"manish_\" + str(idx)+ \".jpg\", new_image)"
   ]
  },
  {
   "cell_type": "markdown",
   "metadata": {},
   "source": [
    "# -----------------------------------------------------------------------------------------------------------"
   ]
  },
  {
   "cell_type": "code",
   "execution_count": null,
   "metadata": {},
   "outputs": [],
   "source": []
  }
 ],
 "metadata": {
  "kernelspec": {
   "display_name": "Python 2",
   "language": "python",
   "name": "python2"
  },
  "language_info": {
   "codemirror_mode": {
    "name": "ipython",
    "version": 2
   },
   "file_extension": ".py",
   "mimetype": "text/x-python",
   "name": "python",
   "nbconvert_exporter": "python",
   "pygments_lexer": "ipython2",
   "version": "2.7.15+"
  },
  "latex_envs": {
   "LaTeX_envs_menu_present": true,
   "autoclose": false,
   "autocomplete": true,
   "bibliofile": "biblio.bib",
   "cite_by": "apalike",
   "current_citInitial": 1,
   "eqLabelWithNumbers": true,
   "eqNumInitial": 1,
   "hotkeys": {
    "equation": "Ctrl-E",
    "itemize": "Ctrl-I"
   },
   "labels_anchors": false,
   "latex_user_defs": false,
   "report_style_numbering": false,
   "user_envs_cfg": false
  },
  "nbTranslate": {
   "displayLangs": [
    "*"
   ],
   "hotkey": "alt-t",
   "langInMainMenu": true,
   "sourceLang": "en",
   "targetLang": "fr",
   "useGoogleTranslate": true
  }
 },
 "nbformat": 4,
 "nbformat_minor": 2
}
