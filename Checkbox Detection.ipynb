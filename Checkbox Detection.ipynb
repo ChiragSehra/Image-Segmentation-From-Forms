{
 "cells": [
  {
   "cell_type": "code",
   "execution_count": 27,
   "metadata": {},
   "outputs": [],
   "source": [
    "import numpy as np\n",
    "import pandas as pd\n",
    "import matplotlib.pyplot as plt\n",
    "%matplotlib inline\n",
    "import cv2\n",
    "import skimage.io as skio\n",
    "from skimage.transform import rescale, resize\n",
    "\n",
    "#flag to check if to create folder for the checkbox image\n",
    "createCheckbox = False"
   ]
  },
  {
   "cell_type": "code",
   "execution_count": 2,
   "metadata": {},
   "outputs": [],
   "source": [
    "checkboxImg = cv2.imread('forms/crop_image/Category/Category_General.jpg')\n",
    "normalImg = cv2.imread('forms/crop_image/Category/Category_OBC.jpg')"
   ]
  },
  {
   "cell_type": "code",
   "execution_count": 6,
   "metadata": {},
   "outputs": [
    {
     "data": {
      "image/png": "[encoded data removed]",
      "text/plain": [
       "<Figure size 432x288 with 1 Axes>"
      ]
     },
     "metadata": {
      "needs_background": "light"
     },
     "output_type": "display_data"
    }
   ],
   "source": [
    "plt.imshow(checkboxImg)\n",
    "plt.show()"
   ]
  },
  {
   "cell_type": "code",
   "execution_count": 26,
   "metadata": {},
   "outputs": [],
   "source": [
    "# Calculating Number of White Pixels in The Image\n",
    "def isThisCheckBoxOrNot(img):\n",
    "    temp = np.sum(img==255)\n",
    "    #print(temp)\n",
    "    if temp > 1000:\n",
    "        print(\"This Image has a checkbox\")\n",
    "        createCheckbox = True\n",
    "        return createCheckbox\n",
    "    else:\n",
    "        print(\"This Image doesnt have a checkbox\")\n",
    "        createCheckbox = False\n",
    "        return createCheckbox"
   ]
  },
  {
   "cell_type": "code",
   "execution_count": 11,
   "metadata": {},
   "outputs": [],
   "source": [
    "n_white_px_checkbox = np.sum(checkboxImg==255)\n",
    "n_white_px_normal = np.sum(normalImg==255)"
   ]
  },
  {
   "cell_type": "code",
   "execution_count": 13,
   "metadata": {},
   "outputs": [
    {
     "name": "stdout",
     "output_type": "stream",
     "text": [
      "Number of White Pixels in Checkbox Image is: 1584\n"
     ]
    }
   ],
   "source": [
    "print(\"Number of White Pixels in Checkbox Image is: {0}\".format(n_white_px_checkbox))"
   ]
  },
  {
   "cell_type": "code",
   "execution_count": 14,
   "metadata": {},
   "outputs": [
    {
     "name": "stdout",
     "output_type": "stream",
     "text": [
      "Number of White Pixels in Normal Image is: 699\n"
     ]
    }
   ],
   "source": [
    "print(\"Number of White Pixels in Normal Image is: {0}\".format(n_white_px_normal))"
   ]
  },
  {
   "cell_type": "code",
   "execution_count": 24,
   "metadata": {},
   "outputs": [],
   "source": [
    "check_modeOfCourse = cv2.imread('forms/crop_image/Mode_Of_Course/Academic_Details_ModeOfCourse_FullTime.jpg')\n",
    "normal_modeOfCourse = cv2.imread('forms/crop_image/Mode_Of_Course/Academic_Details_ModeOfCourse_Distance.jpg')"
   ]
  },
  {
   "cell_type": "markdown",
   "metadata": {},
   "source": [
    "## Check whether the Image has Checkbox or not\n"
   ]
  },
  {
   "cell_type": "code",
   "execution_count": 28,
   "metadata": {},
   "outputs": [],
   "source": [
    "def extractCheckboxFieldName(img):\n",
    "    isThisCheckBoxOrNot(img)\n",
    "    if createCheckbox == True:\n",
    "        print(\"Code to create checkbox\")\n",
    "    else:\n",
    "        print('Not creating folder because there is no checkbox')"
   ]
  },
  {
   "cell_type": "code",
   "execution_count": null,
   "metadata": {},
   "outputs": [],
   "source": []
  },
  {
   "cell_type": "code",
   "execution_count": 29,
   "metadata": {},
   "outputs": [],
   "source": [
    "# List of all fields which has checkboxes\n",
    "checkboxFolders = [\n",
    "    'Gender',\n",
    "    'Number of Brothers-Sisters',\n",
    "    'Religion',\n",
    "    'Category',\n",
    "    'Special Cases',\n",
    "    'Talent_Areas',\n",
    "    'Awards',\n",
    "    'Present_Class',\n",
    "    'Present_Class_Stream',\n",
    "    'Mode_Of_Course',\n",
    "    'Type_Of_Student'\n",
    "]"
   ]
  },
  {
   "cell_type": "code",
   "execution_count": 30,
   "metadata": {},
   "outputs": [
    {
     "name": "stdout",
     "output_type": "stream",
     "text": [
      "Gender\n",
      "Number of Brothers-Sisters\n",
      "Religion\n",
      "Category\n",
      "Special Cases\n",
      "Talent_Areas\n",
      "Awards\n",
      "Present_Class\n",
      "Present_Class_Stream\n",
      "Mode_Of_Course\n",
      "Type_Of_Student\n"
     ]
    }
   ],
   "source": [
    "for foldername in checkboxFolders:\n",
    "#     get into each the folder and iterate over each file\n",
    "#     check if the image has a checkbox or not\n",
    "#     create a empty list and append the list with file that has checkbox\n",
    "#     create a dict with keys as foldername and value as the vlaue of items in list"
   ]
  },
  {
   "cell_type": "code",
   "execution_count": null,
   "metadata": {},
   "outputs": [],
   "source": []
  },
  {
   "cell_type": "code",
   "execution_count": null,
   "metadata": {},
   "outputs": [],
   "source": []
  }
 ],
 "metadata": {
  "kernelspec": {
   "display_name": "Python 2",
   "language": "python",
   "name": "python2"
  },
  "language_info": {
   "codemirror_mode": {
    "name": "ipython",
    "version": 2
   },
   "file_extension": ".py",
   "mimetype": "text/x-python",
   "name": "python",
   "nbconvert_exporter": "python",
   "pygments_lexer": "ipython2",
   "version": "2.7.15+"
  }
 },
 "nbformat": 4,
 "nbformat_minor": 2
}
